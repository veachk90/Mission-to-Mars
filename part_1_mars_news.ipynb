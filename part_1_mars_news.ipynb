{
 "cells": [
  {
   "cell_type": "code",
   "execution_count": 1,
   "id": "c701329c",
   "metadata": {},
   "outputs": [],
   "source": [
    "# Import Splinter and BeautifulSoup\n",
    "from splinter import Browser\n",
    "from bs4 import BeautifulSoup as soup\n",
    "from webdriver_manager.chrome import ChromeDriverManager"
   ]
  },
  {
   "cell_type": "code",
   "execution_count": 2,
   "id": "b933b9ae",
   "metadata": {},
   "outputs": [],
   "source": [
    "executable_path = {'executable_path': ChromeDriverManager().install()}\n",
    "browser = Browser('chrome', **executable_path, headless=False)"
   ]
  },
  {
   "cell_type": "code",
   "execution_count": 3,
   "id": "e0ff110a",
   "metadata": {},
   "outputs": [
    {
     "data": {
      "text/plain": [
       "True"
      ]
     },
     "execution_count": 3,
     "metadata": {},
     "output_type": "execute_result"
    }
   ],
   "source": [
    "# Visit the Mars NASA news site\n",
    "url = 'https://redplanetscience.com'\n",
    "browser.visit(url)\n",
    "# Optional delay for loading the page\n",
    "browser.is_element_present_by_css('div.list_text', wait_time=1)"
   ]
  },
  {
   "cell_type": "code",
   "execution_count": 4,
   "id": "6a789a95",
   "metadata": {},
   "outputs": [],
   "source": [
    "# Create a Beautiful Soup object\n",
    "html = browser.html\n",
    "title_preview_soup = soup(html, 'html.parser')"
   ]
  },
  {
   "cell_type": "code",
   "execution_count": 5,
   "id": "c3c06c5b",
   "metadata": {},
   "outputs": [
    {
     "data": {
      "text/plain": [
       "[<div class=\"content_title\">3 Things We've Learned From NASA's Mars InSight </div>,\n",
       " <div class=\"content_title\">Join NASA for the Launch of the Mars 2020 Perseverance Rover</div>,\n",
       " <div class=\"content_title\">NASA's Mars Perseverance Rover Passes Flight Readiness Review</div>,\n",
       " <div class=\"content_title\">NASA's Mars 2020 Rover Tests Descent-Stage Separation</div>,\n",
       " <div class=\"content_title\">Media Get a Close-Up of NASA's Mars 2020 Rover</div>,\n",
       " <div class=\"content_title\">NASA Moves Forward With Campaign to Return Mars Samples to Earth</div>,\n",
       " <div class=\"content_title\">6 Things to Know About NASA's Ingenuity Mars Helicopter</div>,\n",
       " <div class=\"content_title\">NASA Engineers Checking InSight's Weather Sensors</div>,\n",
       " <div class=\"content_title\">NASA's Perseverance Rover Bringing 3D-Printed Metal Parts to Mars</div>,\n",
       " <div class=\"content_title\">InSight's 'Mole' Team Peers into the Pit</div>,\n",
       " <div class=\"content_title\">NASA Readies Perseverance Mars Rover's Earthly Twin </div>,\n",
       " <div class=\"content_title\">The Extraordinary Sample-Gathering System of NASA's Perseverance Mars Rover</div>,\n",
       " <div class=\"content_title\">NASA to Broadcast Mars 2020 Perseverance Launch, Prelaunch Activities</div>,\n",
       " <div class=\"content_title\">NASA's New Mars Rover Will Use X-Rays to Hunt Fossils</div>,\n",
       " <div class=\"content_title\">Newfound Martian Aurora Actually the Most Common; Sheds Light on Mars' Changing Climate</div>]"
      ]
     },
     "execution_count": 5,
     "metadata": {},
     "output_type": "execute_result"
    }
   ],
   "source": [
    "# Extract all the text elements\n",
    "titles = title_preview_soup.find_all('div', class_='content_title')\n",
    "titles"
   ]
  },
  {
   "cell_type": "code",
   "execution_count": 6,
   "id": "c1e72ee9",
   "metadata": {},
   "outputs": [
    {
     "data": {
      "text/plain": [
       "[\"3 Things We've Learned From NASA's Mars InSight \",\n",
       " 'Join NASA for the Launch of the Mars 2020 Perseverance Rover',\n",
       " \"NASA's Mars Perseverance Rover Passes Flight Readiness Review\",\n",
       " \"NASA's Mars 2020 Rover Tests Descent-Stage Separation\",\n",
       " \"Media Get a Close-Up of NASA's Mars 2020 Rover\",\n",
       " 'NASA Moves Forward With Campaign to Return Mars Samples to Earth',\n",
       " \"6 Things to Know About NASA's Ingenuity Mars Helicopter\",\n",
       " \"NASA Engineers Checking InSight's Weather Sensors\",\n",
       " \"NASA's Perseverance Rover Bringing 3D-Printed Metal Parts to Mars\",\n",
       " \"InSight's 'Mole' Team Peers into the Pit\",\n",
       " \"NASA Readies Perseverance Mars Rover's Earthly Twin \",\n",
       " \"The Extraordinary Sample-Gathering System of NASA's Perseverance Mars Rover\",\n",
       " 'NASA to Broadcast Mars 2020 Perseverance Launch, Prelaunch Activities',\n",
       " \"NASA's New Mars Rover Will Use X-Rays to Hunt Fossils\",\n",
       " \"Newfound Martian Aurora Actually the Most Common; Sheds Light on Mars' Changing Climate\"]"
      ]
     },
     "execution_count": 6,
     "metadata": {},
     "output_type": "execute_result"
    }
   ],
   "source": [
    "titles_list = [title.text for title in titles]\n",
    "titles_list"
   ]
  },
  {
   "cell_type": "code",
   "execution_count": 7,
   "id": "aa9b9113",
   "metadata": {},
   "outputs": [
    {
     "data": {
      "text/plain": [
       "[<div class=\"article_teaser_body\">Scientists are finding new mysteries since the geophysics mission landed two years ago.</div>,\n",
       " <div class=\"article_teaser_body\">No matter where you live, choose from a menu of activities to join NASA as we \"Countdown to Mars\" and launch the Perseverance rover to the Red Planet.</div>,\n",
       " <div class=\"article_teaser_body\">​The agency's Mars 2020 mission has one more big prelaunch review – the Launch Readiness Review, on July 27.</div>,\n",
       " <div class=\"article_teaser_body\">A crane lifts the rocket-powered descent stage away from NASA's Mars 2020 rover after technicians tested the pyrotechnic charges that separate the two spacecraft.</div>,\n",
       " <div class=\"article_teaser_body\">The clean room at NASA's Jet Propulsion Laboratory was open to the media to see NASA's next Mars explorer before it leaves for Florida in preparation for a summertime launch.</div>,\n",
       " <div class=\"article_teaser_body\">During this next phase, the program will mature critical technologies and make critical design decisions as well as assess industry partnerships.</div>,\n",
       " <div class=\"article_teaser_body\">The first helicopter attempting to fly on another planet is a marvel of engineering. Get up to speed with these key facts about its plans.</div>,\n",
       " <div class=\"article_teaser_body\">An electronics issue is suspected to be preventing the sensors from sharing their data about Mars weather with the spacecraft.</div>,\n",
       " <div class=\"article_teaser_body\">For hobbyists and makers, 3D printing expands creative possibilities; for specialized engineers, it's also key to next-generation spacecraft design.</div>,\n",
       " <div class=\"article_teaser_body\">Efforts to save the heat probe continue.</div>,\n",
       " <div class=\"article_teaser_body\">Did you know NASA's next Mars rover has a nearly identical sibling on Earth for testing? Even better, it's about to roll for the first time through a replica Martian landscape.</div>,\n",
       " <div class=\"article_teaser_body\">Two astronauts collected Moon rocks on Apollo 11. It will take three robotic systems working together to gather up the first Mars rock samples for return to Earth.</div>,\n",
       " <div class=\"article_teaser_body\">Starting July 27, news activities will cover everything from mission engineering and science to returning samples from Mars to, of course, the launch itself.</div>,\n",
       " <div class=\"article_teaser_body\">PIXL, an instrument on the end of the Perseverance rover's arm, will search for chemical fingerprints left by ancient microbes.</div>,\n",
       " <div class=\"article_teaser_body\">A type of Martian aurora first identified by NASA’s MAVEN spacecraft in 2016 is actually the most common form of aurora occurring on the Red Planet, according to new results from the mission.</div>]"
      ]
     },
     "execution_count": 7,
     "metadata": {},
     "output_type": "execute_result"
    }
   ],
   "source": [
    "previews = title_preview_soup.find_all('div', class_='article_teaser_body')\n",
    "previews"
   ]
  },
  {
   "cell_type": "code",
   "execution_count": 8,
   "id": "00bdeb90",
   "metadata": {},
   "outputs": [
    {
     "data": {
      "text/plain": [
       "['Scientists are finding new mysteries since the geophysics mission landed two years ago.',\n",
       " 'No matter where you live, choose from a menu of activities to join NASA as we \"Countdown to Mars\" and launch the Perseverance rover to the Red Planet.',\n",
       " \"\\u200bThe agency's Mars 2020 mission has one more big prelaunch review – the Launch Readiness Review, on July 27.\",\n",
       " \"A crane lifts the rocket-powered descent stage away from NASA's Mars 2020 rover after technicians tested the pyrotechnic charges that separate the two spacecraft.\",\n",
       " \"The clean room at NASA's Jet Propulsion Laboratory was open to the media to see NASA's next Mars explorer before it leaves for Florida in preparation for a summertime launch.\",\n",
       " 'During this next phase, the program will mature critical technologies and make critical design decisions as well as assess industry partnerships.',\n",
       " 'The first helicopter attempting to fly on another planet is a marvel of engineering. Get up to speed with these key facts about its plans.',\n",
       " 'An electronics issue is suspected to be preventing the sensors from sharing their data about Mars weather with the spacecraft.',\n",
       " \"For hobbyists and makers, 3D printing expands creative possibilities; for specialized engineers, it's also key to next-generation spacecraft design.\",\n",
       " 'Efforts to save the heat probe continue.',\n",
       " \"Did you know NASA's next Mars rover has a nearly identical sibling on Earth for testing? Even better, it's about to roll for the first time through a replica Martian landscape.\",\n",
       " 'Two astronauts collected Moon rocks on Apollo 11. It will take three robotic systems working together to gather up the first Mars rock samples for return to Earth.',\n",
       " 'Starting July 27, news activities will cover everything from mission engineering and science to returning samples from Mars to, of course, the launch itself.',\n",
       " \"PIXL, an instrument on the end of the Perseverance rover's arm, will search for chemical fingerprints left by ancient microbes.\",\n",
       " 'A type of Martian aurora first identified by NASA’s MAVEN spacecraft in 2016 is actually the most common form of aurora occurring on the Red Planet, according to new results from the mission.']"
      ]
     },
     "execution_count": 8,
     "metadata": {},
     "output_type": "execute_result"
    }
   ],
   "source": [
    "previews_list = [preview.text for preview in previews]\n",
    "previews_list"
   ]
  },
  {
   "cell_type": "code",
   "execution_count": 9,
   "id": "d8126f93",
   "metadata": {},
   "outputs": [],
   "source": [
    "# Create an empty list to store the dictionaries\n",
    "titles_previews_list = []"
   ]
  },
  {
   "cell_type": "code",
   "execution_count": 10,
   "id": "fb0eedcc",
   "metadata": {},
   "outputs": [
    {
     "name": "stdout",
     "output_type": "stream",
     "text": [
      "[{\"3 Things We've Learned From NASA's Mars InSight \": 'Scientists are finding new mysteries since the geophysics mission landed two years ago.'}, {'Join NASA for the Launch of the Mars 2020 Perseverance Rover': 'No matter where you live, choose from a menu of activities to join NASA as we \"Countdown to Mars\" and launch the Perseverance rover to the Red Planet.'}, {\"NASA's Mars Perseverance Rover Passes Flight Readiness Review\": \"\\u200bThe agency's Mars 2020 mission has one more big prelaunch review – the Launch Readiness Review, on July 27.\"}, {\"NASA's Mars 2020 Rover Tests Descent-Stage Separation\": \"A crane lifts the rocket-powered descent stage away from NASA's Mars 2020 rover after technicians tested the pyrotechnic charges that separate the two spacecraft.\"}, {\"Media Get a Close-Up of NASA's Mars 2020 Rover\": \"The clean room at NASA's Jet Propulsion Laboratory was open to the media to see NASA's next Mars explorer before it leaves for Florida in preparation for a summertime launch.\"}, {'NASA Moves Forward With Campaign to Return Mars Samples to Earth': 'During this next phase, the program will mature critical technologies and make critical design decisions as well as assess industry partnerships.'}, {\"6 Things to Know About NASA's Ingenuity Mars Helicopter\": 'The first helicopter attempting to fly on another planet is a marvel of engineering. Get up to speed with these key facts about its plans.'}, {\"NASA Engineers Checking InSight's Weather Sensors\": 'An electronics issue is suspected to be preventing the sensors from sharing their data about Mars weather with the spacecraft.'}, {\"NASA's Perseverance Rover Bringing 3D-Printed Metal Parts to Mars\": \"For hobbyists and makers, 3D printing expands creative possibilities; for specialized engineers, it's also key to next-generation spacecraft design.\"}, {\"InSight's 'Mole' Team Peers into the Pit\": 'Efforts to save the heat probe continue.'}, {\"NASA Readies Perseverance Mars Rover's Earthly Twin \": \"Did you know NASA's next Mars rover has a nearly identical sibling on Earth for testing? Even better, it's about to roll for the first time through a replica Martian landscape.\"}, {\"The Extraordinary Sample-Gathering System of NASA's Perseverance Mars Rover\": 'Two astronauts collected Moon rocks on Apollo 11. It will take three robotic systems working together to gather up the first Mars rock samples for return to Earth.'}, {'NASA to Broadcast Mars 2020 Perseverance Launch, Prelaunch Activities': 'Starting July 27, news activities will cover everything from mission engineering and science to returning samples from Mars to, of course, the launch itself.'}, {\"NASA's New Mars Rover Will Use X-Rays to Hunt Fossils\": \"PIXL, an instrument on the end of the Perseverance rover's arm, will search for chemical fingerprints left by ancient microbes.\"}, {\"Newfound Martian Aurora Actually the Most Common; Sheds Light on Mars' Changing Climate\": 'A type of Martian aurora first identified by NASA’s MAVEN spacecraft in 2016 is actually the most common form of aurora occurring on the Red Planet, according to new results from the mission.'}]\n"
     ]
    }
   ],
   "source": [
    "for i in range(0, len(titles_list)):\n",
    "    d = {}\n",
    "    title = titles_list[i]\n",
    "    preview = previews_list[i]\n",
    "    d[title] = preview\n",
    "    titles_previews_list.append(d)\n",
    "    \n",
    "print(titles_previews_list)"
   ]
  },
  {
   "cell_type": "code",
   "execution_count": 12,
   "id": "f9c95e5a",
   "metadata": {},
   "outputs": [
    {
     "data": {
      "text/plain": [
       "{'Join NASA for the Launch of the Mars 2020 Perseverance Rover': 'No matter where you live, choose from a menu of activities to join NASA as we \"Countdown to Mars\" and launch the Perseverance rover to the Red Planet.'}"
      ]
     },
     "execution_count": 12,
     "metadata": {},
     "output_type": "execute_result"
    }
   ],
   "source": [
    "titles_previews_list[1]"
   ]
  },
  {
   "cell_type": "code",
   "execution_count": 13,
   "id": "5b7927ba",
   "metadata": {},
   "outputs": [],
   "source": [
    "browser.quit()"
   ]
  },
  {
   "cell_type": "code",
   "execution_count": null,
   "id": "730c72d4",
   "metadata": {},
   "outputs": [],
   "source": [
    "import json"
   ]
  },
  {
   "cell_type": "code",
   "execution_count": null,
   "id": "9c2ab376",
   "metadata": {},
   "outputs": [],
   "source": [
    "titles_previews_json = json.dumps(titles_previews_list)\n",
    "with open(\"..\\Challenge.json\", \"w\") as outfile:\n",
    "    outfile.write(titles_previews_json)\n",
    "titles_previews_json"
   ]
  }
 ],
 "metadata": {
  "kernelspec": {
   "display_name": "PythonData",
   "language": "python",
   "name": "pythondata"
  },
  "language_info": {
   "codemirror_mode": {
    "name": "ipython",
    "version": 3
   },
   "file_extension": ".py",
   "mimetype": "text/x-python",
   "name": "python",
   "nbconvert_exporter": "python",
   "pygments_lexer": "ipython3",
   "version": "3.7.13"
  }
 },
 "nbformat": 4,
 "nbformat_minor": 5
}
